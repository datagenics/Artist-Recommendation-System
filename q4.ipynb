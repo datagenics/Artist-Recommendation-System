{
 "cells": [
  {
   "cell_type": "markdown",
   "metadata": {},
   "source": [
    "## Artist Recommendation System using Collaborative Filtering\n",
    "\n",
    "### The Objective of this notebook is to:\n",
    "\n",
    "- Examine the data we are working with by performing initial Exploratory Data Analysis (EDA)\n",
    "- Build a couple versions of a basic collaborative recommender system:\n",
    "    - K Nearest Neighbors in sci-kit learn\n",
    "    \n",
    "    \n",
    "We will only be using the Number of plays by users because we are recommending artists - artist recommendation system"
   ]
  },
  {
   "cell_type": "markdown",
   "metadata": {},
   "source": [
    "# System Design\n",
    "\n",
    "## Collaborative Filtering - Recommendation System\n",
    "\n",
    "- We get artist plays given in file usersha1-artmbid-artname-plays.tsv\n",
    "- We get user profile data given in the file usersha1-profile.tsv\n",
    "- Merge the data and convert it into sparse matrix of the form\n",
    "  \n",
    "|   |User1|User2| .... |UserN|\n",
    "|---|---|---|---| ---|\n",
    "|Artist1|np|np|np|np|\n",
    "|Artist2|np|np|np|np|\n",
    "|...|...|...|...|...|\n",
    "|ArtistN|np|np|np|np|\n",
    "  \n",
    "- We apply k-Nearest Neighbhor Algorithm with Cosine as distance measure (k-Nearest Neighbhor is supervised Machine Learning technique\n",
    "- Get the recommendations of artist\n",
    "- Get recommendations of users as per their artist they have watched\n",
    "\n",
    "# Concerns if put in production\n",
    "\n",
    "There are two main issues/ concerns which needs to be handle before the production\n",
    "\n",
    "1. This model will not work for new users, when some new user comes the model needs to be update\n",
    "2. The matrix created for recommendation system is very large, this gives memory error when modeling. This can be handle using some distributed environment such as PySpark\n",
    "\n",
    "# Advantages\n",
    "1. Easy to deploy this model as service\n",
    "2. kNN algo with Cosine make this a strong model\n",
    "3. This model can be easily scaled for new users and new artists"
   ]
  },
  {
   "cell_type": "markdown",
   "metadata": {},
   "source": [
    "# Python Important Module"
   ]
  },
  {
   "cell_type": "code",
   "execution_count": 1,
   "metadata": {},
   "outputs": [
    {
     "name": "stdout",
     "output_type": "stream",
     "text": [
      "Kernel: C:\\Users\\work\\AppData\\Local\\Continuum\\anaconda3\\envs\\FTDS\\python.exe\n"
     ]
    }
   ],
   "source": [
    "# Sometime due to warnings there is difficulty in reading Output, this will remove warning messages\n",
    "import warnings\n",
    "warnings.filterwarnings(\"ignore\")\n",
    "\n",
    "# check kernel environment\n",
    "import sys\n",
    "print(\"Kernel: {}\".format(sys.executable))\n",
    "\n",
    "# Core data analysis packages\n",
    "import pandas as pd\n",
    "import numpy as np\n",
    "\n",
    "# For our EDA charts\n",
    "import matplotlib.pyplot as plt\n",
    "import matplotlib.ticker as ticker\n",
    "import seaborn as sns\n",
    "\n",
    "# Compressed Sparse Row (\"CSR\") matrix\n",
    "from scipy.sparse import csr_matrix \n",
    "\n",
    "# use K-Nearest Neighbors to find cosine distance amongst artists\n",
    "from sklearn.neighbors import NearestNeighbors\n",
    "\n",
    "# fuzzy string matching to allow for differing spelling of artist names\n",
    "from fuzzywuzzy import fuzz, process\n",
    "\n",
    "# import os to use operating system functionality \n",
    "import os\n",
    "\n",
    "\n",
    "# set output to three decimals\n",
    "pd.set_option('display.float_format',lambda x: '%.2f' %x)\n",
    "\n",
    "# set seed for reproducibility of random number initializations\n",
    "seed = np.random.RandomState(seed=42)\n"
   ]
  },
  {
   "cell_type": "markdown",
   "metadata": {},
   "source": [
    "# Downloading the dataset & loading our files"
   ]
  },
  {
   "cell_type": "markdown",
   "metadata": {},
   "source": [
    "- I have used the Last.fm dataset in order to build an artist recommendation system.\n",
    "\n",
    "- You need to download dataset from this <a href=\"http://ocelma.net/MusicRecommendationDataset/lastfm-360K.html\">link</a>\n",
    "\n",
    "- Put dataset inside the data folder."
   ]
  },
  {
   "cell_type": "code",
   "execution_count": 2,
   "metadata": {},
   "outputs": [
    {
     "name": "stdout",
     "output_type": "stream",
     "text": [
      "Put your datasets inside this folder: C:\\Users\\work\\OneDrive\\Documents\\Work\\Laura\\Github\\Decathlon-Assignment\\Q4-Recommendation-System\\data\\lastfm-dataset-360K\n"
     ]
    }
   ],
   "source": [
    "paths=os.path.normpath(os.getcwd())+\"\\\\data\\\\lastfm-dataset-360K\"\n",
    "print(\"Put your datasets inside this folder: \"+paths)"
   ]
  },
  {
   "cell_type": "code",
   "execution_count": 3,
   "metadata": {},
   "outputs": [
    {
     "data": {
      "text/plain": [
       "['mbox_sha1sum.py',\n",
       " 'README.txt',\n",
       " 'usersha1-artmbid-artname-plays.tsv',\n",
       " 'usersha1-profile.tsv']"
      ]
     },
     "execution_count": 3,
     "metadata": {},
     "output_type": "execute_result"
    }
   ],
   "source": [
    "# Path where all files are kept\n",
    "os.listdir(paths)"
   ]
  },
  {
   "cell_type": "code",
   "execution_count": 4,
   "metadata": {},
   "outputs": [],
   "source": [
    "# import our files\n",
    "plays = pd.read_csv(paths+r\"\\usersha1-artmbid-artname-plays.tsv\",sep=\"\\t\", header=None)\n",
    "profiles = pd.read_csv(paths+r\"\\usersha1-profile.tsv\",sep=\"\\t\", header=None)"
   ]
  },
  {
   "cell_type": "markdown",
   "metadata": {},
   "source": [
    "# Set Columns names from README.txt file"
   ]
  },
  {
   "cell_type": "code",
   "execution_count": 5,
   "metadata": {},
   "outputs": [
    {
     "data": {
      "text/html": [
       "<div>\n",
       "<style scoped>\n",
       "    .dataframe tbody tr th:only-of-type {\n",
       "        vertical-align: middle;\n",
       "    }\n",
       "\n",
       "    .dataframe tbody tr th {\n",
       "        vertical-align: top;\n",
       "    }\n",
       "\n",
       "    .dataframe thead th {\n",
       "        text-align: right;\n",
       "    }\n",
       "</style>\n",
       "<table border=\"1\" class=\"dataframe\">\n",
       "  <thead>\n",
       "    <tr style=\"text-align: right;\">\n",
       "      <th></th>\n",
       "      <th>user-mboxsha1</th>\n",
       "      <th>musicbrainz-artist-id</th>\n",
       "      <th>artist-name</th>\n",
       "      <th>plays</th>\n",
       "    </tr>\n",
       "  </thead>\n",
       "  <tbody>\n",
       "    <tr>\n",
       "      <th>0</th>\n",
       "      <td>00000c289a1829a808ac09c00daf10bc3c4e223b</td>\n",
       "      <td>3bd73256-3905-4f3a-97e2-8b341527f805</td>\n",
       "      <td>betty blowtorch</td>\n",
       "      <td>2137</td>\n",
       "    </tr>\n",
       "    <tr>\n",
       "      <th>1</th>\n",
       "      <td>00000c289a1829a808ac09c00daf10bc3c4e223b</td>\n",
       "      <td>f2fb0ff0-5679-42ec-a55c-15109ce6e320</td>\n",
       "      <td>die Ärzte</td>\n",
       "      <td>1099</td>\n",
       "    </tr>\n",
       "    <tr>\n",
       "      <th>2</th>\n",
       "      <td>00000c289a1829a808ac09c00daf10bc3c4e223b</td>\n",
       "      <td>b3ae82c2-e60b-4551-a76d-6620f1b456aa</td>\n",
       "      <td>melissa etheridge</td>\n",
       "      <td>897</td>\n",
       "    </tr>\n",
       "    <tr>\n",
       "      <th>3</th>\n",
       "      <td>00000c289a1829a808ac09c00daf10bc3c4e223b</td>\n",
       "      <td>3d6bbeb7-f90e-4d10-b440-e153c0d10b53</td>\n",
       "      <td>elvenking</td>\n",
       "      <td>717</td>\n",
       "    </tr>\n",
       "    <tr>\n",
       "      <th>4</th>\n",
       "      <td>00000c289a1829a808ac09c00daf10bc3c4e223b</td>\n",
       "      <td>bbd2ffd7-17f4-4506-8572-c1ea58c3f9a8</td>\n",
       "      <td>juliette &amp; the licks</td>\n",
       "      <td>706</td>\n",
       "    </tr>\n",
       "  </tbody>\n",
       "</table>\n",
       "</div>"
      ],
      "text/plain": [
       "                              user-mboxsha1  \\\n",
       "0  00000c289a1829a808ac09c00daf10bc3c4e223b   \n",
       "1  00000c289a1829a808ac09c00daf10bc3c4e223b   \n",
       "2  00000c289a1829a808ac09c00daf10bc3c4e223b   \n",
       "3  00000c289a1829a808ac09c00daf10bc3c4e223b   \n",
       "4  00000c289a1829a808ac09c00daf10bc3c4e223b   \n",
       "\n",
       "                  musicbrainz-artist-id           artist-name  plays  \n",
       "0  3bd73256-3905-4f3a-97e2-8b341527f805       betty blowtorch   2137  \n",
       "1  f2fb0ff0-5679-42ec-a55c-15109ce6e320             die Ärzte   1099  \n",
       "2  b3ae82c2-e60b-4551-a76d-6620f1b456aa     melissa etheridge    897  \n",
       "3  3d6bbeb7-f90e-4d10-b440-e153c0d10b53             elvenking    717  \n",
       "4  bbd2ffd7-17f4-4506-8572-c1ea58c3f9a8  juliette & the licks    706  "
      ]
     },
     "execution_count": 5,
     "metadata": {},
     "output_type": "execute_result"
    }
   ],
   "source": [
    "plays.columns = [\"user-mboxsha1\", \"musicbrainz-artist-id\", \"artist-name\", \"plays\"]\n",
    "plays.head(5)"
   ]
  },
  {
   "cell_type": "code",
   "execution_count": 6,
   "metadata": {},
   "outputs": [
    {
     "data": {
      "text/html": [
       "<div>\n",
       "<style scoped>\n",
       "    .dataframe tbody tr th:only-of-type {\n",
       "        vertical-align: middle;\n",
       "    }\n",
       "\n",
       "    .dataframe tbody tr th {\n",
       "        vertical-align: top;\n",
       "    }\n",
       "\n",
       "    .dataframe thead th {\n",
       "        text-align: right;\n",
       "    }\n",
       "</style>\n",
       "<table border=\"1\" class=\"dataframe\">\n",
       "  <thead>\n",
       "    <tr style=\"text-align: right;\">\n",
       "      <th></th>\n",
       "      <th>user-mboxsha1</th>\n",
       "      <th>gender</th>\n",
       "      <th>age</th>\n",
       "      <th>country</th>\n",
       "      <th>signup_date</th>\n",
       "    </tr>\n",
       "  </thead>\n",
       "  <tbody>\n",
       "    <tr>\n",
       "      <th>0</th>\n",
       "      <td>00000c289a1829a808ac09c00daf10bc3c4e223b</td>\n",
       "      <td>f</td>\n",
       "      <td>22.00</td>\n",
       "      <td>Germany</td>\n",
       "      <td>Feb 1, 2007</td>\n",
       "    </tr>\n",
       "    <tr>\n",
       "      <th>1</th>\n",
       "      <td>00001411dc427966b17297bf4d69e7e193135d89</td>\n",
       "      <td>f</td>\n",
       "      <td>NaN</td>\n",
       "      <td>Canada</td>\n",
       "      <td>Dec 4, 2007</td>\n",
       "    </tr>\n",
       "    <tr>\n",
       "      <th>2</th>\n",
       "      <td>00004d2ac9316e22dc007ab2243d6fcb239e707d</td>\n",
       "      <td>NaN</td>\n",
       "      <td>NaN</td>\n",
       "      <td>Germany</td>\n",
       "      <td>Sep 1, 2006</td>\n",
       "    </tr>\n",
       "    <tr>\n",
       "      <th>3</th>\n",
       "      <td>000063d3fe1cf2ba248b9e3c3f0334845a27a6bf</td>\n",
       "      <td>m</td>\n",
       "      <td>19.00</td>\n",
       "      <td>Mexico</td>\n",
       "      <td>Apr 28, 2008</td>\n",
       "    </tr>\n",
       "    <tr>\n",
       "      <th>4</th>\n",
       "      <td>00007a47085b9aab8af55f52ec8846ac479ac4fe</td>\n",
       "      <td>m</td>\n",
       "      <td>28.00</td>\n",
       "      <td>United States</td>\n",
       "      <td>Jan 27, 2006</td>\n",
       "    </tr>\n",
       "  </tbody>\n",
       "</table>\n",
       "</div>"
      ],
      "text/plain": [
       "                              user-mboxsha1 gender   age        country  \\\n",
       "0  00000c289a1829a808ac09c00daf10bc3c4e223b      f 22.00        Germany   \n",
       "1  00001411dc427966b17297bf4d69e7e193135d89      f   NaN         Canada   \n",
       "2  00004d2ac9316e22dc007ab2243d6fcb239e707d    NaN   NaN        Germany   \n",
       "3  000063d3fe1cf2ba248b9e3c3f0334845a27a6bf      m 19.00         Mexico   \n",
       "4  00007a47085b9aab8af55f52ec8846ac479ac4fe      m 28.00  United States   \n",
       "\n",
       "    signup_date  \n",
       "0   Feb 1, 2007  \n",
       "1   Dec 4, 2007  \n",
       "2   Sep 1, 2006  \n",
       "3  Apr 28, 2008  \n",
       "4  Jan 27, 2006  "
      ]
     },
     "execution_count": 6,
     "metadata": {},
     "output_type": "execute_result"
    }
   ],
   "source": [
    "profiles.columns = [\"user-mboxsha1\", \"gender\", \"age\", \"country\", \"signup_date\"]\n",
    "profiles.head(5)"
   ]
  },
  {
   "cell_type": "code",
   "execution_count": 7,
   "metadata": {},
   "outputs": [
    {
     "data": {
      "text/plain": [
       "user-mboxsha1        0\n",
       "gender           32775\n",
       "age              74900\n",
       "country              0\n",
       "signup_date          0\n",
       "dtype: int64"
      ]
     },
     "execution_count": 7,
     "metadata": {},
     "output_type": "execute_result"
    }
   ],
   "source": [
    "profiles.isna().sum()"
   ]
  },
  {
   "cell_type": "code",
   "execution_count": 8,
   "metadata": {},
   "outputs": [
    {
     "data": {
      "text/plain": [
       "239"
      ]
     },
     "execution_count": 8,
     "metadata": {},
     "output_type": "execute_result"
    }
   ],
   "source": [
    "profiles[\"country\"].nunique()"
   ]
  },
  {
   "cell_type": "markdown",
   "metadata": {},
   "source": [
    "As we can see above, the user_data is not perfect and we have a significant null value for ages and also gender. Even if we combine these null values as \"other\" category, it does not improve the model. For country there are 239 uniques values."
   ]
  },
  {
   "cell_type": "markdown",
   "metadata": {},
   "source": [
    "# Show Basic Information about Datasets"
   ]
  },
  {
   "cell_type": "code",
   "execution_count": 9,
   "metadata": {},
   "outputs": [],
   "source": [
    "# create a function to provide various statistics on our data files\n",
    "def print_info(df_list, df_name):\n",
    "    \n",
    "    # assertion to ensure our two lists are equal in length (ie we didn\"t make any mistakes)\n",
    "    assert len(df_list) == len(df_name)\n",
    "\n",
    "    for i in range(len(df_list)):\n",
    "        print(df_name[i],\"\\n\")\n",
    "        print(\"Shape: {}\\n\".format(df_list[i].shape))\n",
    "        print(\"Info:\")\n",
    "        print(df_list[i].info(),\"\\n\")\n",
    "        print(\"Unique:\\n{}\\n\".format(df_list[i].nunique()))     \n",
    "        \n",
    "        # This returns True if no duplicates are dropped (ie duplicates do not exist)\n",
    "        print(\"No duplicates: {}\\n\".format(len(df_list[i])==len(df_list[i].drop_duplicates())))"
   ]
  },
  {
   "cell_type": "code",
   "execution_count": 10,
   "metadata": {},
   "outputs": [
    {
     "name": "stdout",
     "output_type": "stream",
     "text": [
      "**Plays** \n",
      "\n",
      "Shape: (17535655, 4)\n",
      "\n",
      "Info:\n",
      "<class 'pandas.core.frame.DataFrame'>\n",
      "RangeIndex: 17535655 entries, 0 to 17535654\n",
      "Data columns (total 4 columns):\n",
      " #   Column                 Dtype \n",
      "---  ------                 ----- \n",
      " 0   user-mboxsha1          object\n",
      " 1   musicbrainz-artist-id  object\n",
      " 2   artist-name            object\n",
      " 3   plays                  int64 \n",
      "dtypes: int64(1), object(3)\n",
      "memory usage: 535.1+ MB\n",
      "None \n",
      "\n",
      "Unique:\n",
      "user-mboxsha1            358868\n",
      "musicbrainz-artist-id    160112\n",
      "artist-name              292363\n",
      "plays                     14159\n",
      "dtype: int64\n",
      "\n",
      "No duplicates: True\n",
      "\n",
      "**Profiles** \n",
      "\n",
      "Shape: (359347, 5)\n",
      "\n",
      "Info:\n",
      "<class 'pandas.core.frame.DataFrame'>\n",
      "RangeIndex: 359347 entries, 0 to 359346\n",
      "Data columns (total 5 columns):\n",
      " #   Column         Non-Null Count   Dtype  \n",
      "---  ------         --------------   -----  \n",
      " 0   user-mboxsha1  359347 non-null  object \n",
      " 1   gender         326572 non-null  object \n",
      " 2   age            284447 non-null  float64\n",
      " 3   country        359347 non-null  object \n",
      " 4   signup_date    359347 non-null  object \n",
      "dtypes: float64(1), object(4)\n",
      "memory usage: 13.7+ MB\n",
      "None \n",
      "\n",
      "Unique:\n",
      "user-mboxsha1    359347\n",
      "gender                2\n",
      "age                 113\n",
      "country             239\n",
      "signup_date        2298\n",
      "dtype: int64\n",
      "\n",
      "No duplicates: True\n",
      "\n"
     ]
    }
   ],
   "source": [
    "df_list = [plays, profiles]\n",
    "df_name = [\"**Plays**\", \"**Profiles**\"]\n",
    "print_info(df_list,df_name)"
   ]
  },
  {
   "cell_type": "markdown",
   "metadata": {},
   "source": [
    "# Merge User Profile and Plays Data"
   ]
  },
  {
   "cell_type": "code",
   "execution_count": 11,
   "metadata": {},
   "outputs": [
    {
     "data": {
      "text/html": [
       "<div>\n",
       "<style scoped>\n",
       "    .dataframe tbody tr th:only-of-type {\n",
       "        vertical-align: middle;\n",
       "    }\n",
       "\n",
       "    .dataframe tbody tr th {\n",
       "        vertical-align: top;\n",
       "    }\n",
       "\n",
       "    .dataframe thead th {\n",
       "        text-align: right;\n",
       "    }\n",
       "</style>\n",
       "<table border=\"1\" class=\"dataframe\">\n",
       "  <thead>\n",
       "    <tr style=\"text-align: right;\">\n",
       "      <th></th>\n",
       "      <th>user-mboxsha1</th>\n",
       "      <th>musicbrainz-artist-id</th>\n",
       "      <th>artist-name</th>\n",
       "      <th>plays</th>\n",
       "      <th>gender</th>\n",
       "      <th>age</th>\n",
       "      <th>country</th>\n",
       "      <th>signup_date</th>\n",
       "    </tr>\n",
       "  </thead>\n",
       "  <tbody>\n",
       "    <tr>\n",
       "      <th>0</th>\n",
       "      <td>00000c289a1829a808ac09c00daf10bc3c4e223b</td>\n",
       "      <td>3bd73256-3905-4f3a-97e2-8b341527f805</td>\n",
       "      <td>betty blowtorch</td>\n",
       "      <td>2137</td>\n",
       "      <td>f</td>\n",
       "      <td>22.00</td>\n",
       "      <td>Germany</td>\n",
       "      <td>Feb 1, 2007</td>\n",
       "    </tr>\n",
       "    <tr>\n",
       "      <th>1</th>\n",
       "      <td>00000c289a1829a808ac09c00daf10bc3c4e223b</td>\n",
       "      <td>f2fb0ff0-5679-42ec-a55c-15109ce6e320</td>\n",
       "      <td>die Ärzte</td>\n",
       "      <td>1099</td>\n",
       "      <td>f</td>\n",
       "      <td>22.00</td>\n",
       "      <td>Germany</td>\n",
       "      <td>Feb 1, 2007</td>\n",
       "    </tr>\n",
       "    <tr>\n",
       "      <th>2</th>\n",
       "      <td>00000c289a1829a808ac09c00daf10bc3c4e223b</td>\n",
       "      <td>b3ae82c2-e60b-4551-a76d-6620f1b456aa</td>\n",
       "      <td>melissa etheridge</td>\n",
       "      <td>897</td>\n",
       "      <td>f</td>\n",
       "      <td>22.00</td>\n",
       "      <td>Germany</td>\n",
       "      <td>Feb 1, 2007</td>\n",
       "    </tr>\n",
       "    <tr>\n",
       "      <th>3</th>\n",
       "      <td>00000c289a1829a808ac09c00daf10bc3c4e223b</td>\n",
       "      <td>3d6bbeb7-f90e-4d10-b440-e153c0d10b53</td>\n",
       "      <td>elvenking</td>\n",
       "      <td>717</td>\n",
       "      <td>f</td>\n",
       "      <td>22.00</td>\n",
       "      <td>Germany</td>\n",
       "      <td>Feb 1, 2007</td>\n",
       "    </tr>\n",
       "    <tr>\n",
       "      <th>4</th>\n",
       "      <td>00000c289a1829a808ac09c00daf10bc3c4e223b</td>\n",
       "      <td>bbd2ffd7-17f4-4506-8572-c1ea58c3f9a8</td>\n",
       "      <td>juliette &amp; the licks</td>\n",
       "      <td>706</td>\n",
       "      <td>f</td>\n",
       "      <td>22.00</td>\n",
       "      <td>Germany</td>\n",
       "      <td>Feb 1, 2007</td>\n",
       "    </tr>\n",
       "  </tbody>\n",
       "</table>\n",
       "</div>"
      ],
      "text/plain": [
       "                              user-mboxsha1  \\\n",
       "0  00000c289a1829a808ac09c00daf10bc3c4e223b   \n",
       "1  00000c289a1829a808ac09c00daf10bc3c4e223b   \n",
       "2  00000c289a1829a808ac09c00daf10bc3c4e223b   \n",
       "3  00000c289a1829a808ac09c00daf10bc3c4e223b   \n",
       "4  00000c289a1829a808ac09c00daf10bc3c4e223b   \n",
       "\n",
       "                  musicbrainz-artist-id           artist-name  plays gender  \\\n",
       "0  3bd73256-3905-4f3a-97e2-8b341527f805       betty blowtorch   2137      f   \n",
       "1  f2fb0ff0-5679-42ec-a55c-15109ce6e320             die Ärzte   1099      f   \n",
       "2  b3ae82c2-e60b-4551-a76d-6620f1b456aa     melissa etheridge    897      f   \n",
       "3  3d6bbeb7-f90e-4d10-b440-e153c0d10b53             elvenking    717      f   \n",
       "4  bbd2ffd7-17f4-4506-8572-c1ea58c3f9a8  juliette & the licks    706      f   \n",
       "\n",
       "    age  country  signup_date  \n",
       "0 22.00  Germany  Feb 1, 2007  \n",
       "1 22.00  Germany  Feb 1, 2007  \n",
       "2 22.00  Germany  Feb 1, 2007  \n",
       "3 22.00  Germany  Feb 1, 2007  \n",
       "4 22.00  Germany  Feb 1, 2007  "
      ]
     },
     "execution_count": 11,
     "metadata": {},
     "output_type": "execute_result"
    }
   ],
   "source": [
    "ap = pd.merge(plays, \n",
    "              profiles, \n",
    "              how=\"inner\",\n",
    "              on=\"user-mboxsha1\")\n",
    "ap.head(5)"
   ]
  },
  {
   "cell_type": "markdown",
   "metadata": {},
   "source": [
    "# Artist ranking\n",
    "\n",
    "Here we are ranking the artist according to their unique users, total plays in that artist and average users per play. This ranking will help us in recommendations in later stages.\n",
    "\n",
    "\n",
    "Here we will derive further valuable information from our dataset, including:\n",
    "\n",
    "- Per user/artist pair:\n",
    "    - Plays. This is our play count data; the amount of plays of one artist by one user.\n",
    "\n",
    "- Per artist:\n",
    "    - Total Artist Plays. Aggregate play count of all users of a single artist.\n",
    "    - Total Unique Users. Aggregate users who have listened to an artist at least once.\n",
    "    - Average User Plays. Average times the artist was played by the unique user. Calculated as Total Artist Plays / Total Unique Users.\n",
    "\n",
    "- Per user:\n",
    "    - Total User Plays. Aggregate plays of all artist by a single user.\n",
    "    - Total Unique Artists. The number of artist data available for a single user (the dataset apparently caps this at 50)."
   ]
  },
  {
   "cell_type": "code",
   "execution_count": 12,
   "metadata": {},
   "outputs": [],
   "source": [
    "artist_rank = (ap.groupby([\"artist-name\"]).agg({\"user-mboxsha1\":\"count\",\"plays\":\"sum\"}).\n",
    "    rename(columns={\"user-mboxsha1\":\"totalUniqueUsers\",\"plays\":\"totalArtistPlays\"}).\n",
    "              sort_values([\"totalArtistPlays\"],ascending=False))\n",
    "\n",
    "artist_rank[\"avgUserPlays\"] = artist_rank[\"totalArtistPlays\"]/artist_rank[\"totalUniqueUsers\"]\n",
    "\n",
    "user_rank = (ap.groupby([\"user-mboxsha1\"]).agg({\"artist-name\":\"count\",\"plays\":\"sum\"}).\n",
    "    rename(columns={\"artist-name\":\"totalUniqueArtists\",\"plays\":\"totalUserPlays\"}).\n",
    "            sort_values([\"totalUserPlays\"],ascending=False))"
   ]
  },
  {
   "cell_type": "code",
   "execution_count": 13,
   "metadata": {},
   "outputs": [
    {
     "data": {
      "text/html": [
       "<div>\n",
       "<style scoped>\n",
       "    .dataframe tbody tr th:only-of-type {\n",
       "        vertical-align: middle;\n",
       "    }\n",
       "\n",
       "    .dataframe tbody tr th {\n",
       "        vertical-align: top;\n",
       "    }\n",
       "\n",
       "    .dataframe thead th {\n",
       "        text-align: right;\n",
       "    }\n",
       "</style>\n",
       "<table border=\"1\" class=\"dataframe\">\n",
       "  <thead>\n",
       "    <tr style=\"text-align: right;\">\n",
       "      <th></th>\n",
       "      <th>totalUniqueUsers</th>\n",
       "      <th>totalArtistPlays</th>\n",
       "      <th>avgUserPlays</th>\n",
       "    </tr>\n",
       "    <tr>\n",
       "      <th>artist-name</th>\n",
       "      <th></th>\n",
       "      <th></th>\n",
       "      <th></th>\n",
       "    </tr>\n",
       "  </thead>\n",
       "  <tbody>\n",
       "    <tr>\n",
       "      <th>the beatles</th>\n",
       "      <td>76245</td>\n",
       "      <td>30466827</td>\n",
       "      <td>399.59</td>\n",
       "    </tr>\n",
       "    <tr>\n",
       "      <th>radiohead</th>\n",
       "      <td>77253</td>\n",
       "      <td>27426222</td>\n",
       "      <td>355.02</td>\n",
       "    </tr>\n",
       "    <tr>\n",
       "      <th>coldplay</th>\n",
       "      <td>66658</td>\n",
       "      <td>16686772</td>\n",
       "      <td>250.33</td>\n",
       "    </tr>\n",
       "    <tr>\n",
       "      <th>pink floyd</th>\n",
       "      <td>44443</td>\n",
       "      <td>15943557</td>\n",
       "      <td>358.74</td>\n",
       "    </tr>\n",
       "    <tr>\n",
       "      <th>metallica</th>\n",
       "      <td>45233</td>\n",
       "      <td>15481852</td>\n",
       "      <td>342.27</td>\n",
       "    </tr>\n",
       "  </tbody>\n",
       "</table>\n",
       "</div>"
      ],
      "text/plain": [
       "             totalUniqueUsers  totalArtistPlays  avgUserPlays\n",
       "artist-name                                                  \n",
       "the beatles             76245          30466827        399.59\n",
       "radiohead               77253          27426222        355.02\n",
       "coldplay                66658          16686772        250.33\n",
       "pink floyd              44443          15943557        358.74\n",
       "metallica               45233          15481852        342.27"
      ]
     },
     "execution_count": 13,
     "metadata": {},
     "output_type": "execute_result"
    }
   ],
   "source": [
    "# \"the beatles\" Spears is the most played at 30,466,827 (30 Miilions) plays\n",
    "artist_rank.head(5)"
   ]
  },
  {
   "cell_type": "markdown",
   "metadata": {},
   "source": [
    "# The basic statistics"
   ]
  },
  {
   "cell_type": "code",
   "execution_count": 14,
   "metadata": {},
   "outputs": [
    {
     "data": {
      "text/html": [
       "<div>\n",
       "<style scoped>\n",
       "    .dataframe tbody tr th:only-of-type {\n",
       "        vertical-align: middle;\n",
       "    }\n",
       "\n",
       "    .dataframe tbody tr th {\n",
       "        vertical-align: top;\n",
       "    }\n",
       "\n",
       "    .dataframe thead th {\n",
       "        text-align: right;\n",
       "    }\n",
       "</style>\n",
       "<table border=\"1\" class=\"dataframe\">\n",
       "  <thead>\n",
       "    <tr style=\"text-align: right;\">\n",
       "      <th></th>\n",
       "      <th>totalUniqueUsers</th>\n",
       "      <th>totalArtistPlays</th>\n",
       "      <th>avgUserPlays</th>\n",
       "    </tr>\n",
       "  </thead>\n",
       "  <tbody>\n",
       "    <tr>\n",
       "      <th>count</th>\n",
       "      <td>292363.00</td>\n",
       "      <td>292363.00</td>\n",
       "      <td>292363.00</td>\n",
       "    </tr>\n",
       "    <tr>\n",
       "      <th>mean</th>\n",
       "      <td>59.98</td>\n",
       "      <td>12907.00</td>\n",
       "      <td>138.04</td>\n",
       "    </tr>\n",
       "    <tr>\n",
       "      <th>std</th>\n",
       "      <td>672.47</td>\n",
       "      <td>185981.46</td>\n",
       "      <td>264.34</td>\n",
       "    </tr>\n",
       "    <tr>\n",
       "      <th>min</th>\n",
       "      <td>1.00</td>\n",
       "      <td>1.00</td>\n",
       "      <td>1.00</td>\n",
       "    </tr>\n",
       "    <tr>\n",
       "      <th>25%</th>\n",
       "      <td>1.00</td>\n",
       "      <td>53.00</td>\n",
       "      <td>36.00</td>\n",
       "    </tr>\n",
       "    <tr>\n",
       "      <th>50%</th>\n",
       "      <td>2.00</td>\n",
       "      <td>208.00</td>\n",
       "      <td>88.00</td>\n",
       "    </tr>\n",
       "    <tr>\n",
       "      <th>75%</th>\n",
       "      <td>8.00</td>\n",
       "      <td>1048.00</td>\n",
       "      <td>168.00</td>\n",
       "    </tr>\n",
       "    <tr>\n",
       "      <th>max</th>\n",
       "      <td>77253.00</td>\n",
       "      <td>30466827.00</td>\n",
       "      <td>36285.00</td>\n",
       "    </tr>\n",
       "  </tbody>\n",
       "</table>\n",
       "</div>"
      ],
      "text/plain": [
       "       totalUniqueUsers  totalArtistPlays  avgUserPlays\n",
       "count         292363.00         292363.00     292363.00\n",
       "mean              59.98          12907.00        138.04\n",
       "std              672.47         185981.46        264.34\n",
       "min                1.00              1.00          1.00\n",
       "25%                1.00             53.00         36.00\n",
       "50%                2.00            208.00         88.00\n",
       "75%                8.00           1048.00        168.00\n",
       "max            77253.00       30466827.00      36285.00"
      ]
     },
     "execution_count": 14,
     "metadata": {},
     "output_type": "execute_result"
    }
   ],
   "source": [
    "artist_rank.describe()"
   ]
  },
  {
   "cell_type": "code",
   "execution_count": 15,
   "metadata": {},
   "outputs": [
    {
     "data": {
      "text/html": [
       "<div>\n",
       "<style scoped>\n",
       "    .dataframe tbody tr th:only-of-type {\n",
       "        vertical-align: middle;\n",
       "    }\n",
       "\n",
       "    .dataframe tbody tr th {\n",
       "        vertical-align: top;\n",
       "    }\n",
       "\n",
       "    .dataframe thead th {\n",
       "        text-align: right;\n",
       "    }\n",
       "</style>\n",
       "<table border=\"1\" class=\"dataframe\">\n",
       "  <thead>\n",
       "    <tr style=\"text-align: right;\">\n",
       "      <th></th>\n",
       "      <th>totalUniqueArtists</th>\n",
       "      <th>totalUserPlays</th>\n",
       "    </tr>\n",
       "    <tr>\n",
       "      <th>user-mboxsha1</th>\n",
       "      <th></th>\n",
       "      <th></th>\n",
       "    </tr>\n",
       "  </thead>\n",
       "  <tbody>\n",
       "    <tr>\n",
       "      <th>0ebecedb3cef2347ebab2936d30c1a488b8c43d0</th>\n",
       "      <td>56</td>\n",
       "      <td>787884</td>\n",
       "    </tr>\n",
       "    <tr>\n",
       "      <th>8d0384537845e7f2b1b8b3e8a9f67eb8d9439794</th>\n",
       "      <td>48</td>\n",
       "      <td>568011</td>\n",
       "    </tr>\n",
       "    <tr>\n",
       "      <th>710183e9a50e4bd8ad61b24ac4b287f03d51b322</th>\n",
       "      <td>58</td>\n",
       "      <td>539942</td>\n",
       "    </tr>\n",
       "    <tr>\n",
       "      <th>f27c8d76cf15dd6e79fec7affb684804475292de</th>\n",
       "      <td>48</td>\n",
       "      <td>474080</td>\n",
       "    </tr>\n",
       "    <tr>\n",
       "      <th>92aa9c188586c2e57dfa76326ee8b8bdd62dd426</th>\n",
       "      <td>50</td>\n",
       "      <td>461744</td>\n",
       "    </tr>\n",
       "  </tbody>\n",
       "</table>\n",
       "</div>"
      ],
      "text/plain": [
       "                                          totalUniqueArtists  totalUserPlays\n",
       "user-mboxsha1                                                               \n",
       "0ebecedb3cef2347ebab2936d30c1a488b8c43d0                  56          787884\n",
       "8d0384537845e7f2b1b8b3e8a9f67eb8d9439794                  48          568011\n",
       "710183e9a50e4bd8ad61b24ac4b287f03d51b322                  58          539942\n",
       "f27c8d76cf15dd6e79fec7affb684804475292de                  48          474080\n",
       "92aa9c188586c2e57dfa76326ee8b8bdd62dd426                  50          461744"
      ]
     },
     "execution_count": 15,
     "metadata": {},
     "output_type": "execute_result"
    }
   ],
   "source": [
    "# Top users in term of play count\n",
    "user_rank.head(5)"
   ]
  },
  {
   "cell_type": "markdown",
   "metadata": {},
   "source": [
    "For convenience, we will join our artist and user data into a single table. As such, we will need to be careful when deriving insights from columns."
   ]
  },
  {
   "cell_type": "code",
   "execution_count": 16,
   "metadata": {},
   "outputs": [],
   "source": [
    "ap2 = ap.join(artist_rank,on=\"artist-name\",how=\"inner\")\n",
    "ap3 = ap2.join(user_rank,on=\"user-mboxsha1\",how=\"inner\").sort_values([\"plays\"],ascending=False)"
   ]
  },
  {
   "cell_type": "code",
   "execution_count": 17,
   "metadata": {},
   "outputs": [
    {
     "data": {
      "text/html": [
       "<div>\n",
       "<style scoped>\n",
       "    .dataframe tbody tr th:only-of-type {\n",
       "        vertical-align: middle;\n",
       "    }\n",
       "\n",
       "    .dataframe tbody tr th {\n",
       "        vertical-align: top;\n",
       "    }\n",
       "\n",
       "    .dataframe thead th {\n",
       "        text-align: right;\n",
       "    }\n",
       "</style>\n",
       "<table border=\"1\" class=\"dataframe\">\n",
       "  <thead>\n",
       "    <tr style=\"text-align: right;\">\n",
       "      <th></th>\n",
       "      <th>user-mboxsha1</th>\n",
       "      <th>musicbrainz-artist-id</th>\n",
       "      <th>artist-name</th>\n",
       "      <th>plays</th>\n",
       "      <th>gender</th>\n",
       "      <th>age</th>\n",
       "      <th>country</th>\n",
       "      <th>signup_date</th>\n",
       "      <th>totalUniqueUsers</th>\n",
       "      <th>totalArtistPlays</th>\n",
       "      <th>avgUserPlays</th>\n",
       "      <th>totalUniqueArtists</th>\n",
       "      <th>totalUserPlays</th>\n",
       "    </tr>\n",
       "  </thead>\n",
       "  <tbody>\n",
       "    <tr>\n",
       "      <th>9654928</th>\n",
       "      <td>8d0384537845e7f2b1b8b3e8a9f67eb8d9439794</td>\n",
       "      <td>dcaa4f81-bfb7-44eb-8594-4e74f004b6e4</td>\n",
       "      <td>nofx</td>\n",
       "      <td>419157</td>\n",
       "      <td>m</td>\n",
       "      <td>31.00</td>\n",
       "      <td>Austria</td>\n",
       "      <td>Nov 11, 2005</td>\n",
       "      <td>10471</td>\n",
       "      <td>5025614</td>\n",
       "      <td>479.96</td>\n",
       "      <td>48</td>\n",
       "      <td>568011</td>\n",
       "    </tr>\n",
       "    <tr>\n",
       "      <th>1435231</th>\n",
       "      <td>14ea4c6f3c2e86b4937f1158bd13d3173d780bd7</td>\n",
       "      <td>5e6c760b-42e0-4df4-a221-0269355da00a</td>\n",
       "      <td>dean martin</td>\n",
       "      <td>288375</td>\n",
       "      <td>f</td>\n",
       "      <td>NaN</td>\n",
       "      <td>United States</td>\n",
       "      <td>Apr 26, 2006</td>\n",
       "      <td>2594</td>\n",
       "      <td>655025</td>\n",
       "      <td>252.52</td>\n",
       "      <td>19</td>\n",
       "      <td>320326</td>\n",
       "    </tr>\n",
       "    <tr>\n",
       "      <th>12624418</th>\n",
       "      <td>b88d16f3ebdad0bf701ecd46cf4725ea31911849</td>\n",
       "      <td>40f5d9e4-2de7-4f2d-ad41-e31a9a9fea27</td>\n",
       "      <td>the smiths</td>\n",
       "      <td>272359</td>\n",
       "      <td>m</td>\n",
       "      <td>38.00</td>\n",
       "      <td>Brazil</td>\n",
       "      <td>Apr 5, 2006</td>\n",
       "      <td>21274</td>\n",
       "      <td>6408712</td>\n",
       "      <td>301.25</td>\n",
       "      <td>50</td>\n",
       "      <td>428354</td>\n",
       "    </tr>\n",
       "    <tr>\n",
       "      <th>5155710</th>\n",
       "      <td>4b79df05a80b733e6422e52e5d1f25b50cd3aadb</td>\n",
       "      <td>ab309b83-904f-4e2c-8d11-a0223bba51f9</td>\n",
       "      <td>dir en grey</td>\n",
       "      <td>270122</td>\n",
       "      <td>m</td>\n",
       "      <td>23.00</td>\n",
       "      <td>Japan</td>\n",
       "      <td>May 19, 2007</td>\n",
       "      <td>3705</td>\n",
       "      <td>2814331</td>\n",
       "      <td>759.60</td>\n",
       "      <td>42</td>\n",
       "      <td>436498</td>\n",
       "    </tr>\n",
       "    <tr>\n",
       "      <th>12784050</th>\n",
       "      <td>baee6143fb184f2014f05c737c28cd57d6d0486f</td>\n",
       "      <td>79239441-bfd5-4981-a70c-55c3f15c1287</td>\n",
       "      <td>madonna</td>\n",
       "      <td>242328</td>\n",
       "      <td>m</td>\n",
       "      <td>31.00</td>\n",
       "      <td>Brazil</td>\n",
       "      <td>May 1, 2007</td>\n",
       "      <td>25469</td>\n",
       "      <td>7633843</td>\n",
       "      <td>299.73</td>\n",
       "      <td>52</td>\n",
       "      <td>271825</td>\n",
       "    </tr>\n",
       "  </tbody>\n",
       "</table>\n",
       "</div>"
      ],
      "text/plain": [
       "                                     user-mboxsha1  \\\n",
       "9654928   8d0384537845e7f2b1b8b3e8a9f67eb8d9439794   \n",
       "1435231   14ea4c6f3c2e86b4937f1158bd13d3173d780bd7   \n",
       "12624418  b88d16f3ebdad0bf701ecd46cf4725ea31911849   \n",
       "5155710   4b79df05a80b733e6422e52e5d1f25b50cd3aadb   \n",
       "12784050  baee6143fb184f2014f05c737c28cd57d6d0486f   \n",
       "\n",
       "                         musicbrainz-artist-id  artist-name   plays gender  \\\n",
       "9654928   dcaa4f81-bfb7-44eb-8594-4e74f004b6e4         nofx  419157      m   \n",
       "1435231   5e6c760b-42e0-4df4-a221-0269355da00a  dean martin  288375      f   \n",
       "12624418  40f5d9e4-2de7-4f2d-ad41-e31a9a9fea27   the smiths  272359      m   \n",
       "5155710   ab309b83-904f-4e2c-8d11-a0223bba51f9  dir en grey  270122      m   \n",
       "12784050  79239441-bfd5-4981-a70c-55c3f15c1287      madonna  242328      m   \n",
       "\n",
       "           age        country   signup_date  totalUniqueUsers  \\\n",
       "9654928  31.00        Austria  Nov 11, 2005             10471   \n",
       "1435231    NaN  United States  Apr 26, 2006              2594   \n",
       "12624418 38.00         Brazil   Apr 5, 2006             21274   \n",
       "5155710  23.00          Japan  May 19, 2007              3705   \n",
       "12784050 31.00         Brazil   May 1, 2007             25469   \n",
       "\n",
       "          totalArtistPlays  avgUserPlays  totalUniqueArtists  totalUserPlays  \n",
       "9654928            5025614        479.96                  48          568011  \n",
       "1435231             655025        252.52                  19          320326  \n",
       "12624418           6408712        301.25                  50          428354  \n",
       "5155710            2814331        759.60                  42          436498  \n",
       "12784050           7633843        299.73                  52          271825  "
      ]
     },
     "execution_count": 17,
     "metadata": {},
     "output_type": "execute_result"
    }
   ],
   "source": [
    "ap3.head(5)"
   ]
  },
  {
   "cell_type": "code",
   "execution_count": 18,
   "metadata": {},
   "outputs": [
    {
     "name": "stdout",
     "output_type": "stream",
     "text": [
      "3,773,528,520\n"
     ]
    }
   ],
   "source": [
    "# 3 billion total plays\n",
    "print(\"{:,}\".format(ap3[\"plays\"].sum()))"
   ]
  },
  {
   "cell_type": "markdown",
   "metadata": {},
   "source": [
    "# Visualizations"
   ]
  },
  {
   "cell_type": "code",
   "execution_count": 19,
   "metadata": {},
   "outputs": [],
   "source": [
    "# our standard bar chart in a function below\n",
    "\n",
    "def bar_chart_int(x,y,x_label,y_label,title,caption,total_val):\n",
    "    fig, ax = plt.subplots()\n",
    "    fig.set_size_inches(16, 5)\n",
    "    ax = sns.barplot(x[:20], y[:20], palette=\"PuRd\")\n",
    "    ax.set_xlabel(x_label,fontweight=\"bold\")\n",
    "    ax.set_ylabel(y_label,fontweight=\"bold\")\n",
    "    ax.set_title(title,fontweight=\"bold\")\n",
    "    ax.get_yaxis().set_major_formatter(ticker.FuncFormatter(lambda x, p: \"{:,}\".format(int(x))))\n",
    "\n",
    "    # our bar label placement\n",
    "    for p in ax.patches:\n",
    "        height = p.get_height()\n",
    "        pct = 100*(height/total_val)\n",
    "        ax.text(p.get_x()+p.get_width()/2.,\n",
    "                height + 3,\n",
    "                \"{:1.1f}%\".format(pct),\n",
    "                ha=\"center\",verticalalignment=\"bottom\",color=\"black\") \n",
    "\n",
    "    # our caption statement\n",
    "    ax.text(19, max(y[:20])*0.95, caption, style=\"italic\",fontsize=12,horizontalalignment=\"right\")\n",
    "\n",
    "    plt.xticks(rotation=90)\n",
    "    plt.show()"
   ]
  },
  {
   "cell_type": "markdown",
   "metadata": {},
   "source": [
    "With **30466827** plays out of a aggregate play count of **3,773,528,520** in the dataset, **The Beatles** received 0.8% of the plays in the dataset."
   ]
  },
  {
   "cell_type": "code",
   "execution_count": 20,
   "metadata": {},
   "outputs": [
    {
     "data": {
      "image/png": "[encoded data removed]",
      "text/plain": [
       "<Figure size 1152x360 with 1 Axes>"
      ]
     },
     "metadata": {
      "needs_background": "light"
     },
     "output_type": "display_data"
    }
   ],
   "source": [
    "c1 = artist_rank\n",
    "x = c1.index\n",
    "y = c1.totalArtistPlays\n",
    "x_label = \"Artist Name\"\n",
    "y_label = \"Total Artist Plays\"\n",
    "title = \"Total Plays by Artist\"\n",
    "caption = \"Percentages are of total plays\"\n",
    "total_val = c1.totalArtistPlays.sum()\n",
    "\n",
    "bar_chart_int(x,y,x_label,y_label,title,caption,total_val)"
   ]
  },
  {
   "cell_type": "code",
   "execution_count": 21,
   "metadata": {},
   "outputs": [
    {
     "data": {
      "text/html": [
       "<div>\n",
       "<style scoped>\n",
       "    .dataframe tbody tr th:only-of-type {\n",
       "        vertical-align: middle;\n",
       "    }\n",
       "\n",
       "    .dataframe tbody tr th {\n",
       "        vertical-align: top;\n",
       "    }\n",
       "\n",
       "    .dataframe thead th {\n",
       "        text-align: right;\n",
       "    }\n",
       "</style>\n",
       "<table border=\"1\" class=\"dataframe\">\n",
       "  <thead>\n",
       "    <tr style=\"text-align: right;\">\n",
       "      <th></th>\n",
       "      <th>totalUniqueUsers</th>\n",
       "      <th>totalArtistPlays</th>\n",
       "      <th>avgUserPlays</th>\n",
       "    </tr>\n",
       "    <tr>\n",
       "      <th>artist-name</th>\n",
       "      <th></th>\n",
       "      <th></th>\n",
       "      <th></th>\n",
       "    </tr>\n",
       "  </thead>\n",
       "  <tbody>\n",
       "    <tr>\n",
       "      <th>radiohead</th>\n",
       "      <td>77253</td>\n",
       "      <td>27426222</td>\n",
       "      <td>355.02</td>\n",
       "    </tr>\n",
       "    <tr>\n",
       "      <th>the beatles</th>\n",
       "      <td>76245</td>\n",
       "      <td>30466827</td>\n",
       "      <td>399.59</td>\n",
       "    </tr>\n",
       "    <tr>\n",
       "      <th>coldplay</th>\n",
       "      <td>66658</td>\n",
       "      <td>16686772</td>\n",
       "      <td>250.33</td>\n",
       "    </tr>\n",
       "    <tr>\n",
       "      <th>red hot chili peppers</th>\n",
       "      <td>48924</td>\n",
       "      <td>13547741</td>\n",
       "      <td>276.91</td>\n",
       "    </tr>\n",
       "    <tr>\n",
       "      <th>muse</th>\n",
       "      <td>46954</td>\n",
       "      <td>15451683</td>\n",
       "      <td>329.08</td>\n",
       "    </tr>\n",
       "  </tbody>\n",
       "</table>\n",
       "</div>"
      ],
      "text/plain": [
       "                       totalUniqueUsers  totalArtistPlays  avgUserPlays\n",
       "artist-name                                                            \n",
       "radiohead                         77253          27426222        355.02\n",
       "the beatles                       76245          30466827        399.59\n",
       "coldplay                          66658          16686772        250.33\n",
       "red hot chili peppers             48924          13547741        276.91\n",
       "muse                              46954          15451683        329.08"
      ]
     },
     "execution_count": 21,
     "metadata": {},
     "output_type": "execute_result"
    }
   ],
   "source": [
    "artist_rank.sort_values([\"totalUniqueUsers\"],ascending=False).head()"
   ]
  },
  {
   "cell_type": "code",
   "execution_count": 22,
   "metadata": {},
   "outputs": [
    {
     "data": {
      "image/png": "[encoded data removed]",
      "text/plain": [
       "<Figure size 1152x360 with 1 Axes>"
      ]
     },
     "metadata": {
      "needs_background": "light"
     },
     "output_type": "display_data"
    }
   ],
   "source": [
    "c2 = artist_rank.sort_values([\"totalUniqueUsers\"],ascending=False)\n",
    "x = c2.index\n",
    "y = c2.totalUniqueUsers\n",
    "x_label = \"Artist Name\"\n",
    "y_label = \"Unique Users Played\"\n",
    "title = \"Unique Users per Artist\"\n",
    "caption = \"Percentages are of total unique users\"\n",
    "total_val = ap3[\"user-mboxsha1\"].nunique()\n",
    "\n",
    "bar_chart_int(x,y,x_label,y_label,title,caption,total_val)"
   ]
  },
  {
   "cell_type": "code",
   "execution_count": 23,
   "metadata": {},
   "outputs": [
    {
     "data": {
      "image/png": "[encoded data removed]",
      "text/plain": [
       "<Figure size 1080x720 with 1 Axes>"
      ]
     },
     "metadata": {
      "needs_background": "light"
     },
     "output_type": "display_data"
    }
   ],
   "source": [
    "top_artists = artist_rank.sort_values([\"totalArtistPlays\"],ascending=False).index[:12]\n",
    "\n",
    "x = artist_rank.totalUniqueUsers\n",
    "y = artist_rank.totalArtistPlays\n",
    "labels = artist_rank.index\n",
    "\n",
    "fig, ax = plt.subplots(figsize=(15,10))\n",
    "sns.regplot(x,y)\n",
    "ax.set_title(\"Artist Popularity: Play Count vs Unique Users\",fontweight=\"bold\")\n",
    "ax.yaxis.set_major_formatter(ticker.FuncFormatter(lambda y, _: \"{:,.0f}\".format(y)))\n",
    "ax.set_xlabel(\"Total Unique Users\",fontweight=\"bold\")\n",
    "ax.set_ylabel(\"Total Artist Plays\",fontweight=\"bold\")\n",
    "\n",
    "for i, t in enumerate(labels):\n",
    "    if t in top_artists:\n",
    "        ax.annotate(t,(x[i],y[i]))"
   ]
  },
  {
   "cell_type": "code",
   "execution_count": 24,
   "metadata": {},
   "outputs": [
    {
     "data": {
      "image/png": "[encoded data removed]",
      "text/plain": [
       "<Figure size 1152x360 with 1 Axes>"
      ]
     },
     "metadata": {
      "needs_background": "light"
     },
     "output_type": "display_data"
    }
   ],
   "source": [
    "# Contribution of each user - contribution is less than 1 becuase of huge dataset\n",
    "c3 = user_rank.sort_values([\"totalUserPlays\"],ascending=False)\n",
    "c3[\"user-mboxsha1\"] = c3.index\n",
    "c3[\"user-mboxsha1\"] = c3[\"user-mboxsha1\"].apply(lambda x: \"#\"+str(x))\n",
    "\n",
    "x = c3[\"user-mboxsha1\"]\n",
    "y = c3.totalUserPlays\n",
    "x_label = \"User\"\n",
    "y_label = \"Plays per User\"\n",
    "title = \"Total Plays per User\"\n",
    "caption = \"Percentages are of total plays\"\n",
    "total_val = ap3.plays.sum()\n",
    "\n",
    "bar_chart_int(x,y,x_label,y_label,title,caption,total_val)"
   ]
  },
  {
   "cell_type": "code",
   "execution_count": 25,
   "metadata": {},
   "outputs": [
    {
     "data": {
      "text/html": [
       "<div>\n",
       "<style scoped>\n",
       "    .dataframe tbody tr th:only-of-type {\n",
       "        vertical-align: middle;\n",
       "    }\n",
       "\n",
       "    .dataframe tbody tr th {\n",
       "        vertical-align: top;\n",
       "    }\n",
       "\n",
       "    .dataframe thead th {\n",
       "        text-align: right;\n",
       "    }\n",
       "</style>\n",
       "<table border=\"1\" class=\"dataframe\">\n",
       "  <thead>\n",
       "    <tr style=\"text-align: right;\">\n",
       "      <th></th>\n",
       "      <th>totalUniqueUsers</th>\n",
       "      <th>totalArtistPlays</th>\n",
       "      <th>avgUserPlays</th>\n",
       "    </tr>\n",
       "    <tr>\n",
       "      <th>artist-name</th>\n",
       "      <th></th>\n",
       "      <th></th>\n",
       "      <th></th>\n",
       "    </tr>\n",
       "  </thead>\n",
       "  <tbody>\n",
       "    <tr>\n",
       "      <th>Макс иванов</th>\n",
       "      <td>1</td>\n",
       "      <td>36285</td>\n",
       "      <td>36285.00</td>\n",
       "    </tr>\n",
       "    <tr>\n",
       "      <th>mr. silakka</th>\n",
       "      <td>1</td>\n",
       "      <td>32366</td>\n",
       "      <td>32366.00</td>\n",
       "    </tr>\n",
       "    <tr>\n",
       "      <th>coca cola christmas</th>\n",
       "      <td>1</td>\n",
       "      <td>27604</td>\n",
       "      <td>27604.00</td>\n",
       "    </tr>\n",
       "    <tr>\n",
       "      <th>2brother</th>\n",
       "      <td>1</td>\n",
       "      <td>23675</td>\n",
       "      <td>23675.00</td>\n",
       "    </tr>\n",
       "    <tr>\n",
       "      <th>big lonz</th>\n",
       "      <td>1</td>\n",
       "      <td>22202</td>\n",
       "      <td>22202.00</td>\n",
       "    </tr>\n",
       "  </tbody>\n",
       "</table>\n",
       "</div>"
      ],
      "text/plain": [
       "                     totalUniqueUsers  totalArtistPlays  avgUserPlays\n",
       "artist-name                                                          \n",
       "Макс иванов                         1             36285      36285.00\n",
       "mr. silakka                         1             32366      32366.00\n",
       "coca cola christmas                 1             27604      27604.00\n",
       "2brother                            1             23675      23675.00\n",
       "big lonz                            1             22202      22202.00"
      ]
     },
     "execution_count": 25,
     "metadata": {},
     "output_type": "execute_result"
    }
   ],
   "source": [
    "artist_rank.sort_values([\"avgUserPlays\"],ascending=False).head()"
   ]
  },
  {
   "cell_type": "code",
   "execution_count": 26,
   "metadata": {},
   "outputs": [
    {
     "data": {
      "text/html": [
       "<div>\n",
       "<style scoped>\n",
       "    .dataframe tbody tr th:only-of-type {\n",
       "        vertical-align: middle;\n",
       "    }\n",
       "\n",
       "    .dataframe tbody tr th {\n",
       "        vertical-align: top;\n",
       "    }\n",
       "\n",
       "    .dataframe thead th {\n",
       "        text-align: right;\n",
       "    }\n",
       "</style>\n",
       "<table border=\"1\" class=\"dataframe\">\n",
       "  <thead>\n",
       "    <tr style=\"text-align: right;\">\n",
       "      <th></th>\n",
       "      <th>user-mboxsha1</th>\n",
       "      <th>musicbrainz-artist-id</th>\n",
       "      <th>artist-name</th>\n",
       "      <th>plays</th>\n",
       "      <th>gender</th>\n",
       "      <th>age</th>\n",
       "      <th>country</th>\n",
       "      <th>signup_date</th>\n",
       "      <th>totalUniqueUsers</th>\n",
       "      <th>totalArtistPlays</th>\n",
       "      <th>avgUserPlays</th>\n",
       "      <th>totalUniqueArtists</th>\n",
       "      <th>totalUserPlays</th>\n",
       "    </tr>\n",
       "  </thead>\n",
       "  <tbody>\n",
       "    <tr>\n",
       "      <th>2911499</th>\n",
       "      <td>2a8f828c08d6737cd9bcdd762348060c07d557f8</td>\n",
       "      <td>NaN</td>\n",
       "      <td>coca cola christmas</td>\n",
       "      <td>27604</td>\n",
       "      <td>m</td>\n",
       "      <td>23.00</td>\n",
       "      <td>Norway</td>\n",
       "      <td>Aug 2, 2004</td>\n",
       "      <td>1</td>\n",
       "      <td>27604</td>\n",
       "      <td>27604.00</td>\n",
       "      <td>50</td>\n",
       "      <td>114418</td>\n",
       "    </tr>\n",
       "  </tbody>\n",
       "</table>\n",
       "</div>"
      ],
      "text/plain": [
       "                                    user-mboxsha1 musicbrainz-artist-id  \\\n",
       "2911499  2a8f828c08d6737cd9bcdd762348060c07d557f8                   NaN   \n",
       "\n",
       "                 artist-name  plays gender   age country  signup_date  \\\n",
       "2911499  coca cola christmas  27604      m 23.00  Norway  Aug 2, 2004   \n",
       "\n",
       "         totalUniqueUsers  totalArtistPlays  avgUserPlays  totalUniqueArtists  \\\n",
       "2911499                 1             27604      27604.00                  50   \n",
       "\n",
       "         totalUserPlays  \n",
       "2911499          114418  "
      ]
     },
     "execution_count": 26,
     "metadata": {},
     "output_type": "execute_result"
    }
   ],
   "source": [
    "ap3[ap3[\"artist-name\"]==\"coca cola christmas\"]"
   ]
  },
  {
   "cell_type": "code",
   "execution_count": 27,
   "metadata": {},
   "outputs": [
    {
     "data": {
      "image/png": "[encoded data removed]",
      "text/plain": [
       "<Figure size 1152x360 with 1 Axes>"
      ]
     },
     "metadata": {
      "needs_background": "light"
     },
     "output_type": "display_data"
    }
   ],
   "source": [
    "c4 = artist_rank.sort_values([\"avgUserPlays\"],ascending=False)\n",
    "\n",
    "x = c4.index\n",
    "y = c4.avgUserPlays\n",
    "x_label = \"Artist Name\"\n",
    "y_label = \"Average Plays per User\"\n",
    "title = \"Top Plays per User\"\n",
    "caption = \"Percentages are of percent of total plays\"\n",
    "total_val = ap3.plays.sum()\n",
    "\n",
    "bar_chart_int(x,y,x_label,y_label,title,caption,total_val)"
   ]
  },
  {
   "cell_type": "markdown",
   "metadata": {},
   "source": [
    "If we include only popular artists which we will define as over 100 unique users, it will gives us the most dedicated fans"
   ]
  },
  {
   "cell_type": "code",
   "execution_count": 28,
   "metadata": {},
   "outputs": [
    {
     "data": {
      "image/png": "[encoded data removed]",
      "text/plain": [
       "<Figure size 1152x360 with 1 Axes>"
      ]
     },
     "metadata": {
      "needs_background": "light"
     },
     "output_type": "display_data"
    }
   ],
   "source": [
    "c5 = artist_rank[artist_rank[\"totalUniqueUsers\"]>100].sort_values([\"avgUserPlays\"],ascending=False)\n",
    "\n",
    "x = c5.index\n",
    "y = c5.avgUserPlays\n",
    "x_label = \"Artist Name\"\n",
    "y_label = \"Average Plays per User\"\n",
    "title = \"Top Plays per User\"\n",
    "caption = \"Percentages are of percent of total plays\"\n",
    "total_val = ap3.plays.sum()\n",
    "\n",
    "bar_chart_int(x,y,x_label,y_label,title,caption,total_val)"
   ]
  },
  {
   "cell_type": "markdown",
   "metadata": {},
   "source": [
    "\n",
    "# Item Similarity with K-Nearest Neighbors in Scikit Learn\n",
    "\n",
    "As our first iteration of a basic collaborative recommender, we will build a sparse matrix comparing artist plays (rows) by user (columns). This data will then be passed through a latent mapping algorithm, K-nearest neighbors, to determine cosine similarity amongst the user/artist relationships. This will help us determine which artists are most similar as in shortest distance apart within this latent mapping. For instance, as we would see with a relatively small cosine distance between them, when a user plays **clawfinger**, they also have a high probability of playing the **godsmack** rather than a more distant artist such as Snoop Dogg.\n",
    "\n",
    "# Prepare Sparse Matrix\n",
    "Here we fit data into a sparse matrix of artist name (row) vs. user (column). This matrix captures all relationships between artists and users with number of plays in each respective cell.\n",
    "\n",
    "|   |User1|User2| .... |UserN|\n",
    "|---|---|---|---| ---|\n",
    "|Artist1|np|np|np|np|\n",
    "|Artist2|np|np|np|np|\n",
    "|...|...|...|...|...|\n",
    "|ArtistN|np|np|np|np|\n",
    "\n",
    "Where **np** is number of plays\n",
    "\n",
    "Example\n",
    "\n",
    "|   |User1|User2|user3|User4|\n",
    "|---|---|---|---| ---|\n",
    "|Artist1|5|2|2|0|\n",
    "|Artist2|0|2|2|1|\n",
    "|Artist3|0|1|0|0|\n",
    "|Artist4|0|1|0|0|\n",
    "|Artist5|0|0|0|1|"
   ]
  },
  {
   "cell_type": "code",
   "execution_count": 29,
   "metadata": {},
   "outputs": [],
   "source": [
    "# fit data into a sparse matrix of artist name (row) vs user (column)\n",
    "# in terms of number of plays by artist/user\n",
    "def data_to_sparse(data,index,columns,values):\n",
    "    pivot = data.pivot(index=index,columns=columns,values=values).fillna(0)\n",
    "    sparse = csr_matrix(pivot.values)\n",
    "    print(sparse.shape)\n",
    "    return pivot, sparse\n",
    "\n",
    "# User K Nearest Neighbors to determine cosine distance amongst artists\n",
    "def fit_knn(sparse):\n",
    "    knn = NearestNeighbors(metric=\"cosine\")\n",
    "    knn.fit(sparse)\n",
    "    print(knn)\n",
    "    return knn"
   ]
  },
  {
   "cell_type": "code",
   "execution_count": null,
   "metadata": {},
   "outputs": [],
   "source": []
  },
  {
   "cell_type": "code",
   "execution_count": null,
   "metadata": {},
   "outputs": [],
   "source": []
  },
  {
   "cell_type": "markdown",
   "metadata": {},
   "source": [
    "## Talking sample of data to avoid memory issues"
   ]
  },
  {
   "cell_type": "code",
   "execution_count": 30,
   "metadata": {},
   "outputs": [],
   "source": [
    "ap4 = ap3.head(1000)"
   ]
  },
  {
   "cell_type": "code",
   "execution_count": 31,
   "metadata": {},
   "outputs": [
    {
     "name": "stdout",
     "output_type": "stream",
     "text": [
      "(576, 859)\n"
     ]
    }
   ],
   "source": [
    "pivot_ap3,sparse_ap3 = data_to_sparse(ap4,index=\"artist-name\",columns=\"user-mboxsha1\",values=\"plays\")"
   ]
  },
  {
   "cell_type": "raw",
   "metadata": {},
   "source": [
    "# non-null values \n",
    "sparse_ap3.data\n",
    "# columns \n",
    "sparse_ap3.indices\n",
    "# rows\n",
    "sparse_ap3.indptr"
   ]
  },
  {
   "cell_type": "code",
   "execution_count": 32,
   "metadata": {},
   "outputs": [
    {
     "name": "stdout",
     "output_type": "stream",
     "text": [
      "NearestNeighbors(algorithm='auto', leaf_size=30, metric='cosine',\n",
      "                 metric_params=None, n_jobs=None, n_neighbors=5, p=2,\n",
      "                 radius=1.0)\n"
     ]
    }
   ],
   "source": [
    "knn = fit_knn(sparse_ap3)"
   ]
  },
  {
   "cell_type": "code",
   "execution_count": 33,
   "metadata": {},
   "outputs": [
    {
     "data": {
      "text/html": [
       "<div>\n",
       "<style scoped>\n",
       "    .dataframe tbody tr th:only-of-type {\n",
       "        vertical-align: middle;\n",
       "    }\n",
       "\n",
       "    .dataframe tbody tr th {\n",
       "        vertical-align: top;\n",
       "    }\n",
       "\n",
       "    .dataframe thead th {\n",
       "        text-align: right;\n",
       "    }\n",
       "</style>\n",
       "<table border=\"1\" class=\"dataframe\">\n",
       "  <thead>\n",
       "    <tr style=\"text-align: right;\">\n",
       "      <th>user-mboxsha1</th>\n",
       "      <th>0033ee7378661b88b245b1f67cc622ff63a51061</th>\n",
       "      <th>006261139d787c1e43b4c69d304f2772367c1005</th>\n",
       "      <th>006c8ca50e7700a7744b4e18a4c0cad7e2dc5592</th>\n",
       "      <th>00a20b9791abd8b29903a8a43e343ae93a98d9fd</th>\n",
       "      <th>00eaf1e508d9078dbd99f9a93f26ccdf41ed78ce</th>\n",
       "      <th>0104a80a31d821a13e08e24f80dc30c62cd65191</th>\n",
       "      <th>01d84708f851f7257a34aa5040eac0fd5a5e38d5</th>\n",
       "      <th>024a218c1c7b0516f4831a1cfbba266002142144</th>\n",
       "      <th>025e476b4e8f4aec3bf263c737b65fd856acd0c2</th>\n",
       "      <th>0268c4ff8eba994c93fc0e49644bac7b49caa068</th>\n",
       "      <th>...</th>\n",
       "      <th>fd66aac4f86b222d6d4cb7bffbe690c3b4b81213</th>\n",
       "      <th>fdb5b5b698b62621da1d65a4907a10208c09d39c</th>\n",
       "      <th>feb88a480c59569d53940d617854fff98a487f20</th>\n",
       "      <th>fede7413abf6a1e53557756e43bdd913caa2b420</th>\n",
       "      <th>ff128f44ada4ecafd06438e4ec39181634650ccd</th>\n",
       "      <th>ff2ce775eaf0c90569a7c6cd4a1c8f458df12e57</th>\n",
       "      <th>ff4b19c43528846b3c2cbdf5434fa8a3ea5875df</th>\n",
       "      <th>ff654604ed06a095bd8d95ac0e4508e0b83cac6e</th>\n",
       "      <th>ffba5496d4a7ea01f70b05806a8689d6f25d777b</th>\n",
       "      <th>ffbbd9e0a6c65bf15f076e8c97fe9c94cdfe456c</th>\n",
       "    </tr>\n",
       "    <tr>\n",
       "      <th>artist-name</th>\n",
       "      <th></th>\n",
       "      <th></th>\n",
       "      <th></th>\n",
       "      <th></th>\n",
       "      <th></th>\n",
       "      <th></th>\n",
       "      <th></th>\n",
       "      <th></th>\n",
       "      <th></th>\n",
       "      <th></th>\n",
       "      <th></th>\n",
       "      <th></th>\n",
       "      <th></th>\n",
       "      <th></th>\n",
       "      <th></th>\n",
       "      <th></th>\n",
       "      <th></th>\n",
       "      <th></th>\n",
       "      <th></th>\n",
       "      <th></th>\n",
       "      <th></th>\n",
       "    </tr>\n",
       "  </thead>\n",
       "  <tbody>\n",
       "    <tr>\n",
       "      <th>2 playaz</th>\n",
       "      <td>0.00</td>\n",
       "      <td>0.00</td>\n",
       "      <td>0.00</td>\n",
       "      <td>0.00</td>\n",
       "      <td>0.00</td>\n",
       "      <td>0.00</td>\n",
       "      <td>0.00</td>\n",
       "      <td>0.00</td>\n",
       "      <td>0.00</td>\n",
       "      <td>0.00</td>\n",
       "      <td>...</td>\n",
       "      <td>0.00</td>\n",
       "      <td>0.00</td>\n",
       "      <td>0.00</td>\n",
       "      <td>0.00</td>\n",
       "      <td>0.00</td>\n",
       "      <td>0.00</td>\n",
       "      <td>0.00</td>\n",
       "      <td>0.00</td>\n",
       "      <td>0.00</td>\n",
       "      <td>0.00</td>\n",
       "    </tr>\n",
       "    <tr>\n",
       "      <th>213</th>\n",
       "      <td>0.00</td>\n",
       "      <td>0.00</td>\n",
       "      <td>0.00</td>\n",
       "      <td>0.00</td>\n",
       "      <td>0.00</td>\n",
       "      <td>0.00</td>\n",
       "      <td>0.00</td>\n",
       "      <td>0.00</td>\n",
       "      <td>0.00</td>\n",
       "      <td>0.00</td>\n",
       "      <td>...</td>\n",
       "      <td>0.00</td>\n",
       "      <td>0.00</td>\n",
       "      <td>0.00</td>\n",
       "      <td>0.00</td>\n",
       "      <td>0.00</td>\n",
       "      <td>0.00</td>\n",
       "      <td>0.00</td>\n",
       "      <td>0.00</td>\n",
       "      <td>0.00</td>\n",
       "      <td>0.00</td>\n",
       "    </tr>\n",
       "    <tr>\n",
       "      <th>2brother</th>\n",
       "      <td>0.00</td>\n",
       "      <td>0.00</td>\n",
       "      <td>0.00</td>\n",
       "      <td>0.00</td>\n",
       "      <td>0.00</td>\n",
       "      <td>0.00</td>\n",
       "      <td>0.00</td>\n",
       "      <td>0.00</td>\n",
       "      <td>0.00</td>\n",
       "      <td>0.00</td>\n",
       "      <td>...</td>\n",
       "      <td>0.00</td>\n",
       "      <td>0.00</td>\n",
       "      <td>0.00</td>\n",
       "      <td>0.00</td>\n",
       "      <td>0.00</td>\n",
       "      <td>0.00</td>\n",
       "      <td>0.00</td>\n",
       "      <td>0.00</td>\n",
       "      <td>0.00</td>\n",
       "      <td>0.00</td>\n",
       "    </tr>\n",
       "    <tr>\n",
       "      <th>2pac</th>\n",
       "      <td>0.00</td>\n",
       "      <td>0.00</td>\n",
       "      <td>0.00</td>\n",
       "      <td>0.00</td>\n",
       "      <td>0.00</td>\n",
       "      <td>0.00</td>\n",
       "      <td>0.00</td>\n",
       "      <td>0.00</td>\n",
       "      <td>0.00</td>\n",
       "      <td>0.00</td>\n",
       "      <td>...</td>\n",
       "      <td>0.00</td>\n",
       "      <td>0.00</td>\n",
       "      <td>0.00</td>\n",
       "      <td>0.00</td>\n",
       "      <td>0.00</td>\n",
       "      <td>0.00</td>\n",
       "      <td>0.00</td>\n",
       "      <td>0.00</td>\n",
       "      <td>0.00</td>\n",
       "      <td>0.00</td>\n",
       "    </tr>\n",
       "    <tr>\n",
       "      <th>30 seconds to mars</th>\n",
       "      <td>0.00</td>\n",
       "      <td>0.00</td>\n",
       "      <td>0.00</td>\n",
       "      <td>0.00</td>\n",
       "      <td>0.00</td>\n",
       "      <td>0.00</td>\n",
       "      <td>0.00</td>\n",
       "      <td>0.00</td>\n",
       "      <td>0.00</td>\n",
       "      <td>0.00</td>\n",
       "      <td>...</td>\n",
       "      <td>0.00</td>\n",
       "      <td>0.00</td>\n",
       "      <td>0.00</td>\n",
       "      <td>0.00</td>\n",
       "      <td>0.00</td>\n",
       "      <td>0.00</td>\n",
       "      <td>0.00</td>\n",
       "      <td>0.00</td>\n",
       "      <td>0.00</td>\n",
       "      <td>0.00</td>\n",
       "    </tr>\n",
       "  </tbody>\n",
       "</table>\n",
       "<p>5 rows × 859 columns</p>\n",
       "</div>"
      ],
      "text/plain": [
       "user-mboxsha1       0033ee7378661b88b245b1f67cc622ff63a51061  \\\n",
       "artist-name                                                    \n",
       "2 playaz                                                0.00   \n",
       "213                                                     0.00   \n",
       "2brother                                                0.00   \n",
       "2pac                                                    0.00   \n",
       "30 seconds to mars                                      0.00   \n",
       "\n",
       "user-mboxsha1       006261139d787c1e43b4c69d304f2772367c1005  \\\n",
       "artist-name                                                    \n",
       "2 playaz                                                0.00   \n",
       "213                                                     0.00   \n",
       "2brother                                                0.00   \n",
       "2pac                                                    0.00   \n",
       "30 seconds to mars                                      0.00   \n",
       "\n",
       "user-mboxsha1       006c8ca50e7700a7744b4e18a4c0cad7e2dc5592  \\\n",
       "artist-name                                                    \n",
       "2 playaz                                                0.00   \n",
       "213                                                     0.00   \n",
       "2brother                                                0.00   \n",
       "2pac                                                    0.00   \n",
       "30 seconds to mars                                      0.00   \n",
       "\n",
       "user-mboxsha1       00a20b9791abd8b29903a8a43e343ae93a98d9fd  \\\n",
       "artist-name                                                    \n",
       "2 playaz                                                0.00   \n",
       "213                                                     0.00   \n",
       "2brother                                                0.00   \n",
       "2pac                                                    0.00   \n",
       "30 seconds to mars                                      0.00   \n",
       "\n",
       "user-mboxsha1       00eaf1e508d9078dbd99f9a93f26ccdf41ed78ce  \\\n",
       "artist-name                                                    \n",
       "2 playaz                                                0.00   \n",
       "213                                                     0.00   \n",
       "2brother                                                0.00   \n",
       "2pac                                                    0.00   \n",
       "30 seconds to mars                                      0.00   \n",
       "\n",
       "user-mboxsha1       0104a80a31d821a13e08e24f80dc30c62cd65191  \\\n",
       "artist-name                                                    \n",
       "2 playaz                                                0.00   \n",
       "213                                                     0.00   \n",
       "2brother                                                0.00   \n",
       "2pac                                                    0.00   \n",
       "30 seconds to mars                                      0.00   \n",
       "\n",
       "user-mboxsha1       01d84708f851f7257a34aa5040eac0fd5a5e38d5  \\\n",
       "artist-name                                                    \n",
       "2 playaz                                                0.00   \n",
       "213                                                     0.00   \n",
       "2brother                                                0.00   \n",
       "2pac                                                    0.00   \n",
       "30 seconds to mars                                      0.00   \n",
       "\n",
       "user-mboxsha1       024a218c1c7b0516f4831a1cfbba266002142144  \\\n",
       "artist-name                                                    \n",
       "2 playaz                                                0.00   \n",
       "213                                                     0.00   \n",
       "2brother                                                0.00   \n",
       "2pac                                                    0.00   \n",
       "30 seconds to mars                                      0.00   \n",
       "\n",
       "user-mboxsha1       025e476b4e8f4aec3bf263c737b65fd856acd0c2  \\\n",
       "artist-name                                                    \n",
       "2 playaz                                                0.00   \n",
       "213                                                     0.00   \n",
       "2brother                                                0.00   \n",
       "2pac                                                    0.00   \n",
       "30 seconds to mars                                      0.00   \n",
       "\n",
       "user-mboxsha1       0268c4ff8eba994c93fc0e49644bac7b49caa068  ...  \\\n",
       "artist-name                                                   ...   \n",
       "2 playaz                                                0.00  ...   \n",
       "213                                                     0.00  ...   \n",
       "2brother                                                0.00  ...   \n",
       "2pac                                                    0.00  ...   \n",
       "30 seconds to mars                                      0.00  ...   \n",
       "\n",
       "user-mboxsha1       fd66aac4f86b222d6d4cb7bffbe690c3b4b81213  \\\n",
       "artist-name                                                    \n",
       "2 playaz                                                0.00   \n",
       "213                                                     0.00   \n",
       "2brother                                                0.00   \n",
       "2pac                                                    0.00   \n",
       "30 seconds to mars                                      0.00   \n",
       "\n",
       "user-mboxsha1       fdb5b5b698b62621da1d65a4907a10208c09d39c  \\\n",
       "artist-name                                                    \n",
       "2 playaz                                                0.00   \n",
       "213                                                     0.00   \n",
       "2brother                                                0.00   \n",
       "2pac                                                    0.00   \n",
       "30 seconds to mars                                      0.00   \n",
       "\n",
       "user-mboxsha1       feb88a480c59569d53940d617854fff98a487f20  \\\n",
       "artist-name                                                    \n",
       "2 playaz                                                0.00   \n",
       "213                                                     0.00   \n",
       "2brother                                                0.00   \n",
       "2pac                                                    0.00   \n",
       "30 seconds to mars                                      0.00   \n",
       "\n",
       "user-mboxsha1       fede7413abf6a1e53557756e43bdd913caa2b420  \\\n",
       "artist-name                                                    \n",
       "2 playaz                                                0.00   \n",
       "213                                                     0.00   \n",
       "2brother                                                0.00   \n",
       "2pac                                                    0.00   \n",
       "30 seconds to mars                                      0.00   \n",
       "\n",
       "user-mboxsha1       ff128f44ada4ecafd06438e4ec39181634650ccd  \\\n",
       "artist-name                                                    \n",
       "2 playaz                                                0.00   \n",
       "213                                                     0.00   \n",
       "2brother                                                0.00   \n",
       "2pac                                                    0.00   \n",
       "30 seconds to mars                                      0.00   \n",
       "\n",
       "user-mboxsha1       ff2ce775eaf0c90569a7c6cd4a1c8f458df12e57  \\\n",
       "artist-name                                                    \n",
       "2 playaz                                                0.00   \n",
       "213                                                     0.00   \n",
       "2brother                                                0.00   \n",
       "2pac                                                    0.00   \n",
       "30 seconds to mars                                      0.00   \n",
       "\n",
       "user-mboxsha1       ff4b19c43528846b3c2cbdf5434fa8a3ea5875df  \\\n",
       "artist-name                                                    \n",
       "2 playaz                                                0.00   \n",
       "213                                                     0.00   \n",
       "2brother                                                0.00   \n",
       "2pac                                                    0.00   \n",
       "30 seconds to mars                                      0.00   \n",
       "\n",
       "user-mboxsha1       ff654604ed06a095bd8d95ac0e4508e0b83cac6e  \\\n",
       "artist-name                                                    \n",
       "2 playaz                                                0.00   \n",
       "213                                                     0.00   \n",
       "2brother                                                0.00   \n",
       "2pac                                                    0.00   \n",
       "30 seconds to mars                                      0.00   \n",
       "\n",
       "user-mboxsha1       ffba5496d4a7ea01f70b05806a8689d6f25d777b  \\\n",
       "artist-name                                                    \n",
       "2 playaz                                                0.00   \n",
       "213                                                     0.00   \n",
       "2brother                                                0.00   \n",
       "2pac                                                    0.00   \n",
       "30 seconds to mars                                      0.00   \n",
       "\n",
       "user-mboxsha1       ffbbd9e0a6c65bf15f076e8c97fe9c94cdfe456c  \n",
       "artist-name                                                   \n",
       "2 playaz                                                0.00  \n",
       "213                                                     0.00  \n",
       "2brother                                                0.00  \n",
       "2pac                                                    0.00  \n",
       "30 seconds to mars                                      0.00  \n",
       "\n",
       "[5 rows x 859 columns]"
      ]
     },
     "execution_count": 33,
     "metadata": {},
     "output_type": "execute_result"
    }
   ],
   "source": [
    "pivot_ap3.head(5)"
   ]
  },
  {
   "cell_type": "code",
   "execution_count": 34,
   "metadata": {},
   "outputs": [],
   "source": [
    "def idx_recommend(data,idx,model,k):\n",
    "    distances, indices = (model.kneighbors(data.\n",
    "                                     iloc[idx,:]. #filter on specific row=artist\n",
    "                                     values.reshape(1,-1), #reshape to get users in columns and plays in 1 row                                                                       #Reshape your data either using array.reshape(-1, 1) if your data has a single feature or array.reshape(1, -1) if it contains a single sample.\n",
    "                                     n_neighbors=k+1))\n",
    "\n",
    "    for i in range(0,len(distances.flatten())):\n",
    "        if i == 0:\n",
    "            print((\"Recommendations for {}:\\n\".\n",
    "                  format(data.index[idx])))\n",
    "        else:\n",
    "            print((\"{}: {} ({:.3f})\".\n",
    "                  format(i,\n",
    "                         data.index[indices.flatten()[i]],\n",
    "                         distances.flatten()[i])))\n",
    "    return \"\"\n",
    "\n"
   ]
  },
  {
   "cell_type": "code",
   "execution_count": 35,
   "metadata": {},
   "outputs": [
    {
     "name": "stdout",
     "output_type": "stream",
     "text": [
      "Recommendations for clover studio:\n",
      "\n",
      "1: pink floyd (1.000)\n",
      "2: phyllis hyman (1.000)\n",
      "3: poets of the fall (1.000)\n",
      "4: pig destroyer (1.000)\n",
      "5: phish (1.000)\n",
      "6: pretty ricky (1.000)\n"
     ]
    },
    {
     "data": {
      "text/plain": [
       "''"
      ]
     },
     "execution_count": 35,
     "metadata": {},
     "output_type": "execute_result"
    }
   ],
   "source": [
    "# we query a random artist\n",
    "query_index = seed.choice(pivot_ap3.shape[0])\n",
    "idx_recommend(pivot_ap3,query_index,knn,6)"
   ]
  },
  {
   "cell_type": "code",
   "execution_count": 36,
   "metadata": {},
   "outputs": [
    {
     "name": "stdout",
     "output_type": "stream",
     "text": [
      "Recommendations for the beatles:\n",
      "\n",
      "1: perfume (0.717)\n",
      "2: bruce springsteen & the e street band (0.814)\n",
      "3: they might be giants (0.858)\n",
      "4: bruce springsteen (0.892)\n",
      "5: oasis (0.923)\n",
      "6: queen (0.937)\n"
     ]
    },
    {
     "data": {
      "text/plain": [
       "''"
      ]
     },
     "execution_count": 36,
     "metadata": {},
     "output_type": "execute_result"
    }
   ],
   "source": [
    "# lookup index number for select artists\n",
    "query_index = pivot_ap3.index.get_loc(\"the beatles\")\n",
    "idx_recommend(pivot_ap3,query_index,knn,6)"
   ]
  },
  {
   "cell_type": "markdown",
   "metadata": {},
   "source": [
    "# Query by Artist (with Fuzzy Matching)\n",
    "Here we implement direct artist lookup using fuzzy matching for partial name matches."
   ]
  },
  {
   "cell_type": "code",
   "execution_count": 37,
   "metadata": {},
   "outputs": [],
   "source": [
    "# this will help us to locate partial matches of our query\n",
    "def fuzzy_match(query_subject,data):\n",
    "    ratio_tuples = []\n",
    "    \n",
    "    # each artist name is the subject in the data index\n",
    "    # each artist in the data is compared against our query subject to determine percentage match\n",
    "    # NOTE there may be ways to optimize this process by not looping through all artists\n",
    "    for subject in data.index:\n",
    "        ratio = fuzz.ratio(subject.lower(),query_subject.lower())\n",
    "        current_query_idx = data.index.tolist().index(subject)\n",
    "        ratio_tuples.append((subject, ratio,current_query_idx))\n",
    "        \n",
    "    # our findings are then sorted based on match rating, and top two are kept\n",
    "    ratio_tuples = sorted(ratio_tuples, key=lambda tup: tup[1],reverse=True)[:2]\n",
    "    \n",
    "    print(\"Top matches: {}\\n\".format([(x[0],x[1]) for x in ratio_tuples]))  \n",
    "    \n",
    "    match = ratio_tuples[0][0]\n",
    "    \n",
    "    return match, ratio_tuples\n",
    "\n",
    "def artist_recommend(query_artist, data, model,k):\n",
    "    \n",
    "    # determine artist matches using fuzzy matching\n",
    "    \n",
    "    match, ratio_tuples = fuzzy_match(query_artist,data)\n",
    "    \n",
    "    # look up artist by query index\n",
    "    idx_recommend(data, ratio_tuples[0][2],model,k)   \n",
    "    \n",
    "    return \"\""
   ]
  },
  {
   "cell_type": "code",
   "execution_count": 38,
   "metadata": {},
   "outputs": [
    {
     "name": "stdout",
     "output_type": "stream",
     "text": [
      "Top matches: [('hammerfall', 75), ('hans zimmer', 71)]\n",
      "\n",
      "Recommendations for hammerfall:\n",
      "\n",
      "1: placebo (1.000)\n",
      "2: poets of the fall (1.000)\n",
      "3: phil hendrie (1.000)\n",
      "4: phish (1.000)\n",
      "5: phyllis hyman (1.000)\n",
      "6: pig destroyer (1.000)\n",
      "7: pink floyd (1.000)\n",
      "8: perfume (1.000)\n",
      "9: pulp (1.000)\n",
      "10: queens of the stone age (1.000)\n"
     ]
    },
    {
     "data": {
      "text/plain": [
       "''"
      ]
     },
     "execution_count": 38,
     "metadata": {},
     "output_type": "execute_result"
    }
   ],
   "source": [
    "artist_recommend(\"hammer\",pivot_ap3,knn,10)"
   ]
  },
  {
   "cell_type": "markdown",
   "metadata": {},
   "source": [
    "# Feature Scaling: Apply Threshold\n",
    "Here we apply thresholds to keep only popular artists and active users. This reduces noise in our data in an aim to improve our recommendations.\n",
    "\n",
    "We will filter as follows.\n",
    "\n",
    "- Users:\n",
    "    - Minimum Plays per User. Minimum aggregate play count per user.\n",
    "    - Minimum Unique Artist Plays. A user needs to play at least this many different artists to be counted.\n",
    "- Artists:\n",
    "    - Minimum Artist Plays. Minimum times an artist must be played.\n",
    "    - Minimum Listeners. Minimum unique users per artist."
   ]
  },
  {
   "cell_type": "code",
   "execution_count": 39,
   "metadata": {},
   "outputs": [
    {
     "name": "stdout",
     "output_type": "stream",
     "text": [
      "MINIMUM VALUES\n",
      "totalUserPlays from 1 to 1000\n",
      "totalUniqueArtists from 1 to 10\n",
      "totalArtistPlays from 1 to 10000\n",
      "totalUniqueUsers from 1 to 10\n",
      "\n",
      "FILTER IMPACT\n",
      "FILTERED Users: 316315 Artists: 22082\n",
      "ORIGINAL Users: 358866 Artists: 292363\n",
      "FILTERED % ORIGINAL Users: 88.1% Artists: 7.6%\n"
     ]
    },
    {
     "data": {
      "text/html": [
       "<div>\n",
       "<style scoped>\n",
       "    .dataframe tbody tr th:only-of-type {\n",
       "        vertical-align: middle;\n",
       "    }\n",
       "\n",
       "    .dataframe tbody tr th {\n",
       "        vertical-align: top;\n",
       "    }\n",
       "\n",
       "    .dataframe thead th {\n",
       "        text-align: right;\n",
       "    }\n",
       "</style>\n",
       "<table border=\"1\" class=\"dataframe\">\n",
       "  <thead>\n",
       "    <tr style=\"text-align: right;\">\n",
       "      <th></th>\n",
       "      <th>totalUserPlays</th>\n",
       "      <th>totalUniqueArtists</th>\n",
       "      <th>totalArtistPlays</th>\n",
       "      <th>totalUniqueUsers</th>\n",
       "    </tr>\n",
       "  </thead>\n",
       "  <tbody>\n",
       "    <tr>\n",
       "      <th>count</th>\n",
       "      <td>14259623.00</td>\n",
       "      <td>14259623.00</td>\n",
       "      <td>14259623.00</td>\n",
       "      <td>14259623.00</td>\n",
       "    </tr>\n",
       "    <tr>\n",
       "      <th>mean</th>\n",
       "      <td>12268.81</td>\n",
       "      <td>50.89</td>\n",
       "      <td>2308361.81</td>\n",
       "      <td>8655.02</td>\n",
       "    </tr>\n",
       "    <tr>\n",
       "      <th>std</th>\n",
       "      <td>15500.59</td>\n",
       "      <td>7.96</td>\n",
       "      <td>4056935.24</td>\n",
       "      <td>12661.74</td>\n",
       "    </tr>\n",
       "    <tr>\n",
       "      <th>min</th>\n",
       "      <td>1000.00</td>\n",
       "      <td>10.00</td>\n",
       "      <td>10000.00</td>\n",
       "      <td>10.00</td>\n",
       "    </tr>\n",
       "    <tr>\n",
       "      <th>25%</th>\n",
       "      <td>3752.00</td>\n",
       "      <td>47.00</td>\n",
       "      <td>159764.00</td>\n",
       "      <td>847.00</td>\n",
       "    </tr>\n",
       "    <tr>\n",
       "      <th>50%</th>\n",
       "      <td>7716.00</td>\n",
       "      <td>49.00</td>\n",
       "      <td>760769.00</td>\n",
       "      <td>3376.00</td>\n",
       "    </tr>\n",
       "    <tr>\n",
       "      <th>75%</th>\n",
       "      <td>15035.00</td>\n",
       "      <td>54.00</td>\n",
       "      <td>2573320.00</td>\n",
       "      <td>11078.00</td>\n",
       "    </tr>\n",
       "    <tr>\n",
       "      <th>max</th>\n",
       "      <td>787884.00</td>\n",
       "      <td>166.00</td>\n",
       "      <td>30466827.00</td>\n",
       "      <td>77253.00</td>\n",
       "    </tr>\n",
       "  </tbody>\n",
       "</table>\n",
       "</div>"
      ],
      "text/plain": [
       "       totalUserPlays  totalUniqueArtists  totalArtistPlays  totalUniqueUsers\n",
       "count     14259623.00         14259623.00       14259623.00       14259623.00\n",
       "mean         12268.81               50.89        2308361.81           8655.02\n",
       "std          15500.59                7.96        4056935.24          12661.74\n",
       "min           1000.00               10.00          10000.00             10.00\n",
       "25%           3752.00               47.00         159764.00            847.00\n",
       "50%           7716.00               49.00         760769.00           3376.00\n",
       "75%          15035.00               54.00        2573320.00          11078.00\n",
       "max         787884.00              166.00       30466827.00          77253.00"
      ]
     },
     "execution_count": 39,
     "metadata": {},
     "output_type": "execute_result"
    }
   ],
   "source": [
    "minPlaysPerUser = 1000 # minimum aggregate play count per user\n",
    "minUniqueArtistPlays = 10 # minimum different artists that need values per user to be counted\n",
    "minArtistPlays = 10000 # minimum times an artist must be played\n",
    "minListeners = 10 # minimum unique listeners of artist to be played\n",
    "\n",
    "def apply_threshold(data,\n",
    "                    minPlaysPerUser,\n",
    "                    minUniqueArtistPlays,\n",
    "                    minArtistPlays,\n",
    "                    minListeners):\n",
    "    \n",
    "    filtered = (data[(data[\"totalUserPlays\"]>=minPlaysPerUser) & \n",
    "               (data[\"totalUniqueArtists\"]>=minUniqueArtistPlays) & \n",
    "               (data[\"totalArtistPlays\"]>=minArtistPlays) & \n",
    "               (data[\"totalUniqueUsers\"]>=minListeners)])\n",
    "\n",
    "    # confirm our min thresholds have been applied\n",
    "    print(\"MINIMUM VALUES\")\n",
    "    print(\"totalUserPlays from {} to {}\".format(min(data.totalUserPlays),min(filtered.totalUserPlays)))\n",
    "    print(\"totalUniqueArtists from {} to {}\".format(min(data.totalUniqueArtists),min(filtered.totalUniqueArtists)))\n",
    "    print(\"totalArtistPlays from {} to {}\".format(min(data.totalArtistPlays),min(filtered.totalArtistPlays)))\n",
    "    print(\"totalUniqueUsers from {} to {}\".format(min(data.totalUniqueUsers),min(filtered.totalUniqueUsers)))\n",
    "\n",
    "    print(\"\\nFILTER IMPACT\")\n",
    "    print(\"FILTERED Users: {} Artists: {}\".format(len(filtered[\"user-mboxsha1\"].unique()),\n",
    "                                                           len(filtered[\"artist-name\"].unique())))\n",
    "    print(\"ORIGINAL Users: {} Artists: {}\".format(len(data[\"user-mboxsha1\"].unique()),\n",
    "                                                           len(data[\"artist-name\"].unique())))\n",
    "    print(\"FILTERED % ORIGINAL Users: {:.1f}% Artists: {:.1f}%\".format(100*(len(filtered[\"user-mboxsha1\"].unique())/len(data[\"user-mboxsha1\"].unique())),\n",
    "                                                           100*(len(filtered[\"artist-name\"].unique())/len(data[\"artist-name\"].unique()))))\n",
    "    return filtered\n",
    "\n",
    "ap5 = apply_threshold(ap3,minPlaysPerUser,minUniqueArtistPlays,minArtistPlays,minListeners)\n",
    "\n",
    "ap5[[\"totalUserPlays\",\"totalUniqueArtists\",\"totalArtistPlays\",\"totalUniqueUsers\"]].describe()"
   ]
  },
  {
   "cell_type": "code",
   "execution_count": 40,
   "metadata": {},
   "outputs": [
    {
     "name": "stdout",
     "output_type": "stream",
     "text": [
      "(3053, 6551)\n",
      "NearestNeighbors(algorithm='auto', leaf_size=30, metric='cosine',\n",
      "                 metric_params=None, n_jobs=None, n_neighbors=5, p=2,\n",
      "                 radius=1.0)\n"
     ]
    }
   ],
   "source": [
    "ap6 = ap5.head(10000)\n",
    "pivot_ap4, sparse_ap4 = data_to_sparse(ap6,index=\"artist-name\",columns=\"user-mboxsha1\",values=\"plays\")\n",
    "knn_ap4 = fit_knn(sparse_ap4)"
   ]
  },
  {
   "cell_type": "code",
   "execution_count": 41,
   "metadata": {},
   "outputs": [
    {
     "name": "stdout",
     "output_type": "stream",
     "text": [
      "Top matches: [('hammerfall', 100), ('the fall', 67)]\n",
      "\n",
      "Recommendations for hammerfall:\n",
      "\n",
      "1: rob zombie (0.374)\n",
      "2: teräsbetoni (0.528)\n",
      "3: rhapsody (0.585)\n",
      "4: power quest (0.720)\n",
      "5: altaria (0.720)\n",
      "6: arcturus (0.720)\n",
      "7: primal fear (0.720)\n",
      "8: smokie (0.720)\n",
      "9: timeless miracle (0.720)\n",
      "10: rainbow (0.760)\n"
     ]
    },
    {
     "data": {
      "text/plain": [
       "''"
      ]
     },
     "execution_count": 41,
     "metadata": {},
     "output_type": "execute_result"
    }
   ],
   "source": [
    "artist_recommend(\"hammerfall\",pivot_ap4, knn_ap4,10)"
   ]
  },
  {
   "cell_type": "markdown",
   "metadata": {},
   "source": [
    "# Recommend Artists to Users"
   ]
  },
  {
   "cell_type": "code",
   "execution_count": 42,
   "metadata": {
    "scrolled": true
   },
   "outputs": [
    {
     "data": {
      "text/plain": [
       "[[0.0, 'bill frisell'],\n",
       " [0.2435975911946313, 'pulp'],\n",
       " [0.8034464658804411, 'daniel powter'],\n",
       " [0.9369757054744379, 'the beatles'],\n",
       " [1.0, 'phyllis hyman']]"
      ]
     },
     "execution_count": 42,
     "metadata": {},
     "output_type": "execute_result"
    }
   ],
   "source": [
    "some_user = \"00001411dc427966b17297bf4d69e7e193135d89\"\n",
    "\n",
    "\n",
    "# lookup index number for select artists\n",
    "def Artist_recommend(data,idx,model,k):\n",
    "    distances, indices = (model.kneighbors(data.\n",
    "                                     iloc[idx,:].\n",
    "                                     values.reshape(1,-1),\n",
    "                                     n_neighbors=k+1))\n",
    "\n",
    "    return data.index[indices.flatten()].tolist(), distances.flatten().tolist()\n",
    "\n",
    "def recommendArtistToUser(userID, topN=5):\n",
    "    \n",
    "    artists = []\n",
    "    done = []\n",
    "    \n",
    "    # extract plays of that user\n",
    "    plays_of_user = plays[plays[\"user-mboxsha1\"] == userID]\n",
    "    for u in plays_of_user[\"artist-name\"].values.tolist():\n",
    "        \n",
    "        try:\n",
    "            query_index = pivot_ap3.index.get_loc(u)\n",
    "            names, scores = Artist_recommend(pivot_ap3,query_index,knn,6)\n",
    "            \n",
    "            for i in range(len(names)):\n",
    "                if names[i] != u and names[i] not in done:\n",
    "                    artists.append([scores[i], names[i]])\n",
    "                    done.append(names[i])\n",
    "        except:\n",
    "            continue\n",
    "    del done\n",
    "    return sorted(artists,key=lambda l:l[0], reverse=False)[0:topN]\n",
    "            \n",
    "recommendArtistToUser(some_user, topN=5)"
   ]
  },
  {
   "cell_type": "code",
   "execution_count": null,
   "metadata": {},
   "outputs": [],
   "source": [
    "#output as file w top1 for every user in df"
   ]
  }
 ],
 "metadata": {
  "kernelspec": {
   "display_name": "Python 3",
   "language": "python",
   "name": "python3"
  },
  "language_info": {
   "codemirror_mode": {
    "name": "ipython",
    "version": 3
   },
   "file_extension": ".py",
   "mimetype": "text/x-python",
   "name": "python",
   "nbconvert_exporter": "python",
   "pygments_lexer": "ipython3",
   "version": "3.7.5"
  }
 },
 "nbformat": 4,
 "nbformat_minor": 2
}
